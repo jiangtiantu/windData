{
 "cells": [
  {
   "cell_type": "code",
   "execution_count": null,
   "metadata": {
    "collapsed": true
   },
   "outputs": [],
   "source": [
    "import urllib,urllib2\n",
    "import re\n",
    "from bs4 import BeautifulSoup\n",
    "#url = \"http://www.yuncaijing.com/\"\n",
    "url =\"http://www.yuncaijing.com/news/id_9338425.html\"\n",
    "#url=\"http://www.yuncaijing.com/insider/main.html\"\n",
    "headers={\n",
    "\t\"Referer\":\"www.yuncaijing.com\",\n",
    "\t\"User-Agent\":\"Mozilla/5.0 (Windows NT 10.0; Win64; x64) AppleWebKit/537.36 (KHTML, like Gecko) Chrome/54.0.2840.71 Safari/537.36\",\n",
    "}\n",
    "\n",
    "def getHtml(url,headers):\n",
    "    req = urllib2.Request(url=url,headers=headers)\n",
    "    return urllib2.urlopen(req)\n",
    "    \n",
    "def getZhangtingUrl(url,headers):\n",
    "    response = getHtml(url,headers)\n",
    "    soup = BeautifulSoup(response)\n",
    "    x=soup.find(title=re.compile(u\"【涨停分析】\"))\n",
    "    print x\n",
    "    match=re.match(r'<a href=\"/(.*).html',unicode(x))\n",
    "    if match:\n",
    "        url_d = match.group(1)\n",
    "    else:\n",
    "        print \"url is not match\"\n",
    "    print url_d\n",
    "    if url_d:\n",
    "        return url+url_d+\".html\"\n",
    "    else:\n",
    "        print \"url is not exist\"\n",
    "\n",
    "#rus = getZhangtingUrl(url,headers)\n",
    "#res = getHtml(rus,headers)\n",
    "\n",
    "res = getHtml(url,headers)\n",
    "\n",
    "soup = BeautifulSoup(res)\n",
    "print soup.find(id=\"news-title\").string\n",
    "z=\"\"\n",
    "for x in soup.tbody.tr.td.stripped_strings:\n",
    "    print x\n",
    "for y in soup.tbody.tr.find(class_=\"et5\").stripped_strings:\n",
    "    z=z+y\n",
    "print z\n",
    "\n",
    "for tr in soup.tbody.find_all(\"tr\")[1:]:\n",
    "    item = []\n",
    "    tt=\"\"\n",
    "    for t in tr.stripped_strings:\n",
    "        tt=tt+\"\\t\"+t\n",
    "        item.append(t)\n",
    "  \n",
    "#    print tt   \n",
    "#    print item\n",
    "    print ' '.join(item)+\"\\n\"\n"
   ]
  }
 ],
 "metadata": {
  "anaconda-cloud": {},
  "kernelspec": {
   "display_name": "Python [Root]",
   "language": "python",
   "name": "Python [Root]"
  },
  "language_info": {
   "codemirror_mode": {
    "name": "ipython",
    "version": 2
   },
   "file_extension": ".py",
   "mimetype": "text/x-python",
   "name": "python",
   "nbconvert_exporter": "python",
   "pygments_lexer": "ipython2",
   "version": "2.7.12"
  }
 },
 "nbformat": 4,
 "nbformat_minor": 0
}
